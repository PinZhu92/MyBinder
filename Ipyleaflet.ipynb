{
 "cells": [
  {
   "cell_type": "markdown",
   "metadata": {},
   "source": [
    "<script src=\"https://cdnjs.cloudflare.com/ajax/libs/require.js/2.3.4/require.min.js\"></script>\n",
    "\n",
    "<script type=\"text/x-thebe-config\">\n",
    "  {\n",
    "    requestKernel: true,\n",
    "    binderOptions: {\n",
    "      repo: \"jupyter-widgets/ipyleaflet\",\n",
    "      ref: \"0.13.3\",\n",
    "      binderUrl: \"https://mybinder.org\",\n",
    "      repoProvider: \"github\",\n",
    "    },\n",
    "  }\n",
    "</script>\n",
    "<script src=\"https://unpkg.com/thebe@latest/lib/index.js\"></script>\n",
    "\n",
    "<button id=\"activateButton\" style=\"width: 120px; height: 40px; font-size: 1.5em;\">\n",
    "  Activate\n",
    "</button>\n",
    "\n",
    "<script>\n",
    "var bootstrapThebe = function() {\n",
    "    thebelab.bootstrap();\n",
    "}\n",
    "document.querySelector(\"#activateButton\").addEventListener('click', bootstrapThebe)\n",
    "</script>\n",
    "\n",
    "<pre data-executable=\"true\" data-language=\"python\">\n",
    "from ipyleaflet import Map, Heatmap\n",
    "from random import uniform\n",
    "import time\n",
    "\n",
    "def create_random_data(length):\n",
    "    \"Return a list of some random lat/lon/value triples.\"\n",
    "    return [[uniform(-80, 80),\n",
    "         uniform(-180, 180),\n",
    "         uniform(0, 1000)] for i in range(length)]\n",
    "\n",
    "m = Map(center=[0, 0], zoom=2)\n",
    "m\n",
    "\n",
    "heat = Heatmap(locations=create_random_data(1000), radius=20, blur=10)\n",
    "m.add_layer(heat)\n",
    "\n",
    "for i in range(100):\n",
    "    heat.locations = create_random_data(1000)\n",
    "    time.sleep(0.1)\n",
    "</pre>"
   ]
  }
 ],
 "metadata": {
  "kernelspec": {
   "display_name": "Python 3",
   "language": "python",
   "name": "python3"
  },
  "language_info": {
   "codemirror_mode": {
    "name": "ipython",
    "version": 3
   },
   "file_extension": ".py",
   "mimetype": "text/x-python",
   "name": "python",
   "nbconvert_exporter": "python",
   "pygments_lexer": "ipython3",
   "version": "3.6.9"
  }
 },
 "nbformat": 4,
 "nbformat_minor": 2
}